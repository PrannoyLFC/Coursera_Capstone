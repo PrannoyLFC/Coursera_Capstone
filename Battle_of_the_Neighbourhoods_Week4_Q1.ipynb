{
    "cells": [
        {
            "cell_type": "markdown",
            "metadata": {
                "collapsed": true
            },
            "source": "# Capstone Project : Battle of the Neighbourhoods"
        },
        {
            "cell_type": "markdown",
            "metadata": {},
            "source": "## Introduction"
        },
        {
            "cell_type": "markdown",
            "metadata": {},
            "source": "### \"Which locality of all the cities in United States would be the best place to open a shop?\""
        },
        {
            "cell_type": "markdown",
            "metadata": {},
            "source": "I am interested in starting a departmental store in the best locality of all the cities in United states. I define the best locatlity based on the following constraints,\n\n - Population density of a locality\n - Per Capital income\n - Population of each location\n - Venues in each locality\n - The category of the venues that he's interested in are,\n\n - Arts and Entertainment\n - Shops & Service\n - College and University\n - Event\n - Food\n - Nightife Spot\n - Outdoors & Recreation\n - Professional & Other places\n - Residence\n - Travel & Transport"
        },
        {
            "cell_type": "code",
            "execution_count": null,
            "metadata": {},
            "outputs": [],
            "source": ""
        }
    ],
    "metadata": {
        "kernelspec": {
            "display_name": "Python 3.6",
            "language": "python",
            "name": "python3"
        },
        "language_info": {
            "codemirror_mode": {
                "name": "ipython",
                "version": 3
            },
            "file_extension": ".py",
            "mimetype": "text/x-python",
            "name": "python",
            "nbconvert_exporter": "python",
            "pygments_lexer": "ipython3",
            "version": "3.6.9"
        }
    },
    "nbformat": 4,
    "nbformat_minor": 1
}