{
    "cells": [
        {
            "cell_type": "code",
            "execution_count": 1,
            "metadata": {},
            "outputs": [
                {
                    "name": "stdout",
                    "output_type": "stream",
                    "text": "Solving environment: done\n\n# All requested packages already installed.\n\nLibraries imported.\n"
                }
            ],
            "source": "# Importing all the necessary libraries we will be needing to do the Ananlysis\n\n\nimport numpy as np # library to handle data in a vectorized manner\n\nimport pandas as pd # library for data analsysis\npd.set_option('display.max_columns', None)\npd.set_option('display.max_rows', None)\n\nimport json # library to handle JSON files\n\n!conda install -c conda-forge geopy --yes # uncomment this line if you haven't completed the Foursquare API lab\nfrom geopy.geocoders import Nominatim # convert an address into latitude and longitude values\n\nimport requests # library to handle requests\nfrom pandas.io.json import json_normalize # tranform JSON file into a pandas dataframe\n\n# Matplotlib and associated plotting modules\nimport matplotlib.cm as cm\nimport matplotlib.colors as colors\n\n# import k-means from clustering stage\nfrom sklearn.cluster import KMeans\n\n# for webscraping import Beautiful Soup \nfrom bs4 import BeautifulSoup\n\nimport xml\n\nprint('Libraries imported.')"
        },
        {
            "cell_type": "markdown",
            "metadata": {},
            "source": "### Exracting the content in a wiki page that has 'List of US Cities by population' in to a text file"
        },
        {
            "cell_type": "code",
            "execution_count": 2,
            "metadata": {},
            "outputs": [],
            "source": "link = 'https://en.wikipedia.org/wiki/List_of_United_States_cities_by_population'\npage = requests.get(link) \nsoup = BeautifulSoup(page.text)"
        },
        {
            "cell_type": "code",
            "execution_count": 3,
            "metadata": {},
            "outputs": [],
            "source": "table = soup.find_all('table')[4]"
        },
        {
            "cell_type": "markdown",
            "metadata": {},
            "source": "### Extracting the table from the webpage into a data frame by specifying the column names"
        },
        {
            "cell_type": "code",
            "execution_count": 4,
            "metadata": {},
            "outputs": [
                {
                    "data": {
                        "text/html": "<div>\n<style scoped>\n    .dataframe tbody tr th:only-of-type {\n        vertical-align: middle;\n    }\n\n    .dataframe tbody tr th {\n        vertical-align: top;\n    }\n\n    .dataframe thead th {\n        text-align: right;\n    }\n</style>\n<table border=\"1\" class=\"dataframe\">\n  <thead>\n    <tr style=\"text-align: right;\">\n      <th></th>\n      <th>Rank</th>\n      <th>City</th>\n      <th>State</th>\n      <th>del1</th>\n      <th>del2</th>\n      <th>del3</th>\n      <th>Sq.Area</th>\n      <th>del5</th>\n      <th>population density in Sq Mi</th>\n      <th>Population density in Km2</th>\n      <th>Location</th>\n    </tr>\n  </thead>\n  <tbody>\n    <tr>\n      <th>0</th>\n      <td>1</td>\n      <td>New York[d]</td>\n      <td>New York</td>\n      <td>8,336,817</td>\n      <td>8,175,133</td>\n      <td>+1.98%</td>\n      <td>301.5\u00a0sq\u00a0mi</td>\n      <td>780.9\u00a0km2</td>\n      <td>28,317/sq\u00a0mi</td>\n      <td>10,933/km2</td>\n      <td>40\u00b039\u203249\u2033N 73\u00b056\u203219\u2033W\ufeff / \ufeff40.6635\u00b0N 73.9387\u00b0W\ufeff...</td>\n    </tr>\n    <tr>\n      <th>1</th>\n      <td>2</td>\n      <td>Los Angeles</td>\n      <td>California</td>\n      <td>3,979,576</td>\n      <td>3,792,621</td>\n      <td>+4.93%</td>\n      <td>468.7\u00a0sq\u00a0mi</td>\n      <td>1,213.9\u00a0km2</td>\n      <td>8,484/sq\u00a0mi</td>\n      <td>3,276/km2</td>\n      <td>34\u00b001\u203210\u2033N 118\u00b024\u203239\u2033W\ufeff / \ufeff34.0194\u00b0N 118.4108\u00b0...</td>\n    </tr>\n    <tr>\n      <th>2</th>\n      <td>3</td>\n      <td>Chicago</td>\n      <td>Illinois</td>\n      <td>2,693,976</td>\n      <td>2,695,598</td>\n      <td>\u22120.06%</td>\n      <td>227.3\u00a0sq\u00a0mi</td>\n      <td>588.7\u00a0km2</td>\n      <td>11,900/sq\u00a0mi</td>\n      <td>4,600/km2</td>\n      <td>41\u00b050\u203215\u2033N 87\u00b040\u203254\u2033W\ufeff / \ufeff41.8376\u00b0N 87.6818\u00b0W\ufeff...</td>\n    </tr>\n    <tr>\n      <th>3</th>\n      <td>4</td>\n      <td>Houston[3]</td>\n      <td>Texas</td>\n      <td>2,320,268</td>\n      <td>2,100,263</td>\n      <td>+10.48%</td>\n      <td>637.5\u00a0sq\u00a0mi</td>\n      <td>1,651.1\u00a0km2</td>\n      <td>3,613/sq\u00a0mi</td>\n      <td>1,395/km2</td>\n      <td>29\u00b047\u203212\u2033N 95\u00b023\u203227\u2033W\ufeff / \ufeff29.7866\u00b0N 95.3909\u00b0W\ufeff...</td>\n    </tr>\n    <tr>\n      <th>4</th>\n      <td>5</td>\n      <td>Phoenix</td>\n      <td>Arizona</td>\n      <td>1,680,992</td>\n      <td>1,445,632</td>\n      <td>+16.28%</td>\n      <td>517.6\u00a0sq\u00a0mi</td>\n      <td>1,340.6\u00a0km2</td>\n      <td>3,120/sq\u00a0mi</td>\n      <td>1,200/km2</td>\n      <td>33\u00b034\u203220\u2033N 112\u00b005\u203224\u2033W\ufeff / \ufeff33.5722\u00b0N 112.0901\u00b0...</td>\n    </tr>\n  </tbody>\n</table>\n</div>",
                        "text/plain": "  Rank         City       State       del1       del2     del3      Sq.Area  \\\n0    1  New York[d]    New York  8,336,817  8,175,133   +1.98%  301.5\u00a0sq\u00a0mi   \n1    2  Los Angeles  California  3,979,576  3,792,621   +4.93%  468.7\u00a0sq\u00a0mi   \n2    3      Chicago    Illinois  2,693,976  2,695,598   \u22120.06%  227.3\u00a0sq\u00a0mi   \n3    4   Houston[3]       Texas  2,320,268  2,100,263  +10.48%  637.5\u00a0sq\u00a0mi   \n4    5      Phoenix     Arizona  1,680,992  1,445,632  +16.28%  517.6\u00a0sq\u00a0mi   \n\n          del5 population density in Sq Mi Population density in Km2  \\\n0    780.9\u00a0km2                28,317/sq\u00a0mi                10,933/km2   \n1  1,213.9\u00a0km2                 8,484/sq\u00a0mi                 3,276/km2   \n2    588.7\u00a0km2                11,900/sq\u00a0mi                 4,600/km2   \n3  1,651.1\u00a0km2                 3,613/sq\u00a0mi                 1,395/km2   \n4  1,340.6\u00a0km2                 3,120/sq\u00a0mi                 1,200/km2   \n\n                                            Location  \n0  40\u00b039\u203249\u2033N 73\u00b056\u203219\u2033W\ufeff / \ufeff40.6635\u00b0N 73.9387\u00b0W\ufeff...  \n1  34\u00b001\u203210\u2033N 118\u00b024\u203239\u2033W\ufeff / \ufeff34.0194\u00b0N 118.4108\u00b0...  \n2  41\u00b050\u203215\u2033N 87\u00b040\u203254\u2033W\ufeff / \ufeff41.8376\u00b0N 87.6818\u00b0W\ufeff...  \n3  29\u00b047\u203212\u2033N 95\u00b023\u203227\u2033W\ufeff / \ufeff29.7866\u00b0N 95.3909\u00b0W\ufeff...  \n4  33\u00b034\u203220\u2033N 112\u00b005\u203224\u2033W\ufeff / \ufeff33.5722\u00b0N 112.0901\u00b0...  "
                    },
                    "execution_count": 4,
                    "metadata": {},
                    "output_type": "execute_result"
                }
            ],
            "source": "table_rows = table.find_all('tr')\nres = []\nfor tr in table_rows:\n    td = tr.find_all('td')\n    row = [tr.text.strip() for tr in td if tr.text.strip()]\n    if row:\n        res.append(row)\ndf = pd.DataFrame(res, columns=[\"Rank\", \"City\", \"State\", \"del1\", \"del2\", \"del3\", \"Sq.Area\", \"del5\", \"population density in Sq Mi\", \"Population density in Km2\", \"Location\"])\ndf.head()"
        },
        {
            "cell_type": "markdown",
            "metadata": {},
            "source": "#### Finding the radius of each city with the help of Sq.Area, this step involves in preprocessing of the the column Sq.Area (changing its data type to float) then finding its square root"
        },
        {
            "cell_type": "code",
            "execution_count": 14,
            "metadata": {},
            "outputs": [
                {
                    "data": {
                        "text/html": "<div>\n<style scoped>\n    .dataframe tbody tr th:only-of-type {\n        vertical-align: middle;\n    }\n\n    .dataframe tbody tr th {\n        vertical-align: top;\n    }\n\n    .dataframe thead th {\n        text-align: right;\n    }\n</style>\n<table border=\"1\" class=\"dataframe\">\n  <thead>\n    <tr style=\"text-align: right;\">\n      <th></th>\n      <th>Rank</th>\n      <th>City</th>\n      <th>State</th>\n      <th>del1</th>\n      <th>del2</th>\n      <th>del3</th>\n      <th>Sq.Area</th>\n      <th>del5</th>\n      <th>population density in Sq Mi</th>\n      <th>Population density in Km2</th>\n      <th>Location</th>\n    </tr>\n  </thead>\n  <tbody>\n    <tr>\n      <th>0</th>\n      <td>1</td>\n      <td>New York[d]</td>\n      <td>New York</td>\n      <td>8,336,817</td>\n      <td>8,175,133</td>\n      <td>+1.98%</td>\n      <td>301.5</td>\n      <td>780.9\u00a0km2</td>\n      <td>28,317/sq\u00a0mi</td>\n      <td>10,933/km2</td>\n      <td>40\u00b039\u203249\u2033N 73\u00b056\u203219\u2033W\ufeff / \ufeff40.6635\u00b0N 73.9387\u00b0W\ufeff...</td>\n    </tr>\n    <tr>\n      <th>1</th>\n      <td>2</td>\n      <td>Los Angeles</td>\n      <td>California</td>\n      <td>3,979,576</td>\n      <td>3,792,621</td>\n      <td>+4.93%</td>\n      <td>468.7</td>\n      <td>1,213.9\u00a0km2</td>\n      <td>8,484/sq\u00a0mi</td>\n      <td>3,276/km2</td>\n      <td>34\u00b001\u203210\u2033N 118\u00b024\u203239\u2033W\ufeff / \ufeff34.0194\u00b0N 118.4108\u00b0...</td>\n    </tr>\n    <tr>\n      <th>2</th>\n      <td>3</td>\n      <td>Chicago</td>\n      <td>Illinois</td>\n      <td>2,693,976</td>\n      <td>2,695,598</td>\n      <td>\u22120.06%</td>\n      <td>227.3</td>\n      <td>588.7\u00a0km2</td>\n      <td>11,900/sq\u00a0mi</td>\n      <td>4,600/km2</td>\n      <td>41\u00b050\u203215\u2033N 87\u00b040\u203254\u2033W\ufeff / \ufeff41.8376\u00b0N 87.6818\u00b0W\ufeff...</td>\n    </tr>\n    <tr>\n      <th>3</th>\n      <td>4</td>\n      <td>Houston[3]</td>\n      <td>Texas</td>\n      <td>2,320,268</td>\n      <td>2,100,263</td>\n      <td>+10.48%</td>\n      <td>637.5</td>\n      <td>1,651.1\u00a0km2</td>\n      <td>3,613/sq\u00a0mi</td>\n      <td>1,395/km2</td>\n      <td>29\u00b047\u203212\u2033N 95\u00b023\u203227\u2033W\ufeff / \ufeff29.7866\u00b0N 95.3909\u00b0W\ufeff...</td>\n    </tr>\n    <tr>\n      <th>4</th>\n      <td>5</td>\n      <td>Phoenix</td>\n      <td>Arizona</td>\n      <td>1,680,992</td>\n      <td>1,445,632</td>\n      <td>+16.28%</td>\n      <td>517.6</td>\n      <td>1,340.6\u00a0km2</td>\n      <td>3,120/sq\u00a0mi</td>\n      <td>1,200/km2</td>\n      <td>33\u00b034\u203220\u2033N 112\u00b005\u203224\u2033W\ufeff / \ufeff33.5722\u00b0N 112.0901\u00b0...</td>\n    </tr>\n  </tbody>\n</table>\n</div>",
                        "text/plain": "  Rank         City       State       del1       del2     del3 Sq.Area  \\\n0    1  New York[d]    New York  8,336,817  8,175,133   +1.98%   301.5   \n1    2  Los Angeles  California  3,979,576  3,792,621   +4.93%   468.7   \n2    3      Chicago    Illinois  2,693,976  2,695,598   \u22120.06%   227.3   \n3    4   Houston[3]       Texas  2,320,268  2,100,263  +10.48%   637.5   \n4    5      Phoenix     Arizona  1,680,992  1,445,632  +16.28%   517.6   \n\n          del5 population density in Sq Mi Population density in Km2  \\\n0    780.9\u00a0km2                28,317/sq\u00a0mi                10,933/km2   \n1  1,213.9\u00a0km2                 8,484/sq\u00a0mi                 3,276/km2   \n2    588.7\u00a0km2                11,900/sq\u00a0mi                 4,600/km2   \n3  1,651.1\u00a0km2                 3,613/sq\u00a0mi                 1,395/km2   \n4  1,340.6\u00a0km2                 3,120/sq\u00a0mi                 1,200/km2   \n\n                                            Location  \n0  40\u00b039\u203249\u2033N 73\u00b056\u203219\u2033W\ufeff / \ufeff40.6635\u00b0N 73.9387\u00b0W\ufeff...  \n1  34\u00b001\u203210\u2033N 118\u00b024\u203239\u2033W\ufeff / \ufeff34.0194\u00b0N 118.4108\u00b0...  \n2  41\u00b050\u203215\u2033N 87\u00b040\u203254\u2033W\ufeff / \ufeff41.8376\u00b0N 87.6818\u00b0W\ufeff...  \n3  29\u00b047\u203212\u2033N 95\u00b023\u203227\u2033W\ufeff / \ufeff29.7866\u00b0N 95.3909\u00b0W\ufeff...  \n4  33\u00b034\u203220\u2033N 112\u00b005\u203224\u2033W\ufeff / \ufeff33.5722\u00b0N 112.0901\u00b0...  "
                    },
                    "execution_count": 14,
                    "metadata": {},
                    "output_type": "execute_result"
                }
            ],
            "source": "new= df[\"Sq.Area\"].str.split(\"s\", n=1, expand = True)\nnew = new[0].str.replace(u'\\xa0',u'')\ndf[\"Sq.Area\"] = new.str.replace(',','')\ndf.head()"
        },
        {
            "cell_type": "code",
            "execution_count": 22,
            "metadata": {},
            "outputs": [],
            "source": "df['Sq.Area'].replace(\"190.9km2\",\"190\", inplace=True)\ndf[\"Sq.Area\"] = df[\"Sq.Area\"].astype(float)\ndf[\"Radius\"] = np.sqrt(df[\"Sq.Area\"])"
        },
        {
            "cell_type": "markdown",
            "metadata": {},
            "source": "#### Drop Unncessary Columns"
        },
        {
            "cell_type": "code",
            "execution_count": 23,
            "metadata": {},
            "outputs": [
                {
                    "data": {
                        "text/html": "<div>\n<style scoped>\n    .dataframe tbody tr th:only-of-type {\n        vertical-align: middle;\n    }\n\n    .dataframe tbody tr th {\n        vertical-align: top;\n    }\n\n    .dataframe thead th {\n        text-align: right;\n    }\n</style>\n<table border=\"1\" class=\"dataframe\">\n  <thead>\n    <tr style=\"text-align: right;\">\n      <th></th>\n      <th>City</th>\n      <th>State</th>\n      <th>Population density in Km2</th>\n      <th>Location</th>\n      <th>Radius</th>\n    </tr>\n  </thead>\n  <tbody>\n    <tr>\n      <th>0</th>\n      <td>New York[d]</td>\n      <td>New York</td>\n      <td>10,933/km2</td>\n      <td>40\u00b039\u203249\u2033N 73\u00b056\u203219\u2033W\ufeff / \ufeff40.6635\u00b0N 73.9387\u00b0W\ufeff...</td>\n      <td>17.363755</td>\n    </tr>\n    <tr>\n      <th>1</th>\n      <td>Los Angeles</td>\n      <td>California</td>\n      <td>3,276/km2</td>\n      <td>34\u00b001\u203210\u2033N 118\u00b024\u203239\u2033W\ufeff / \ufeff34.0194\u00b0N 118.4108\u00b0...</td>\n      <td>21.649480</td>\n    </tr>\n    <tr>\n      <th>2</th>\n      <td>Chicago</td>\n      <td>Illinois</td>\n      <td>4,600/km2</td>\n      <td>41\u00b050\u203215\u2033N 87\u00b040\u203254\u2033W\ufeff / \ufeff41.8376\u00b0N 87.6818\u00b0W\ufeff...</td>\n      <td>15.076472</td>\n    </tr>\n    <tr>\n      <th>3</th>\n      <td>Houston[3]</td>\n      <td>Texas</td>\n      <td>1,395/km2</td>\n      <td>29\u00b047\u203212\u2033N 95\u00b023\u203227\u2033W\ufeff / \ufeff29.7866\u00b0N 95.3909\u00b0W\ufeff...</td>\n      <td>25.248762</td>\n    </tr>\n    <tr>\n      <th>4</th>\n      <td>Phoenix</td>\n      <td>Arizona</td>\n      <td>1,200/km2</td>\n      <td>33\u00b034\u203220\u2033N 112\u00b005\u203224\u2033W\ufeff / \ufeff33.5722\u00b0N 112.0901\u00b0...</td>\n      <td>22.750824</td>\n    </tr>\n  </tbody>\n</table>\n</div>",
                        "text/plain": "          City       State Population density in Km2  \\\n0  New York[d]    New York                10,933/km2   \n1  Los Angeles  California                 3,276/km2   \n2      Chicago    Illinois                 4,600/km2   \n3   Houston[3]       Texas                 1,395/km2   \n4      Phoenix     Arizona                 1,200/km2   \n\n                                            Location     Radius  \n0  40\u00b039\u203249\u2033N 73\u00b056\u203219\u2033W\ufeff / \ufeff40.6635\u00b0N 73.9387\u00b0W\ufeff...  17.363755  \n1  34\u00b001\u203210\u2033N 118\u00b024\u203239\u2033W\ufeff / \ufeff34.0194\u00b0N 118.4108\u00b0...  21.649480  \n2  41\u00b050\u203215\u2033N 87\u00b040\u203254\u2033W\ufeff / \ufeff41.8376\u00b0N 87.6818\u00b0W\ufeff...  15.076472  \n3  29\u00b047\u203212\u2033N 95\u00b023\u203227\u2033W\ufeff / \ufeff29.7866\u00b0N 95.3909\u00b0W\ufeff...  25.248762  \n4  33\u00b034\u203220\u2033N 112\u00b005\u203224\u2033W\ufeff / \ufeff33.5722\u00b0N 112.0901\u00b0...  22.750824  "
                    },
                    "execution_count": 23,
                    "metadata": {},
                    "output_type": "execute_result"
                }
            ],
            "source": "df.drop(columns = [\"Rank\", \"del1\", \"del2\", \"del3\", \"del5\", \"Sq.Area\", \"population density in Sq Mi\"], inplace = True)\ndf.head()"
        },
        {
            "cell_type": "markdown",
            "metadata": {},
            "source": "#### Splitting Coordintes"
        },
        {
            "cell_type": "code",
            "execution_count": 24,
            "metadata": {},
            "outputs": [
                {
                    "data": {
                        "text/html": "<div>\n<style scoped>\n    .dataframe tbody tr th:only-of-type {\n        vertical-align: middle;\n    }\n\n    .dataframe tbody tr th {\n        vertical-align: top;\n    }\n\n    .dataframe thead th {\n        text-align: right;\n    }\n</style>\n<table border=\"1\" class=\"dataframe\">\n  <thead>\n    <tr style=\"text-align: right;\">\n      <th></th>\n      <th>City</th>\n      <th>State</th>\n      <th>Population density in Km2</th>\n      <th>Location</th>\n      <th>Radius</th>\n    </tr>\n  </thead>\n  <tbody>\n    <tr>\n      <th>0</th>\n      <td>New York[d]</td>\n      <td>New York</td>\n      <td>10,933/km2</td>\n      <td>\ufeff40.6635\u00b0N 73.9387\u00b0W\ufeff</td>\n      <td>17.363755</td>\n    </tr>\n    <tr>\n      <th>1</th>\n      <td>Los Angeles</td>\n      <td>California</td>\n      <td>3,276/km2</td>\n      <td>\ufeff34.0194\u00b0N 118.4108\u00b0W\ufeff</td>\n      <td>21.649480</td>\n    </tr>\n    <tr>\n      <th>2</th>\n      <td>Chicago</td>\n      <td>Illinois</td>\n      <td>4,600/km2</td>\n      <td>\ufeff41.8376\u00b0N 87.6818\u00b0W\ufeff</td>\n      <td>15.076472</td>\n    </tr>\n    <tr>\n      <th>3</th>\n      <td>Houston[3]</td>\n      <td>Texas</td>\n      <td>1,395/km2</td>\n      <td>\ufeff29.7866\u00b0N 95.3909\u00b0W\ufeff</td>\n      <td>25.248762</td>\n    </tr>\n    <tr>\n      <th>4</th>\n      <td>Phoenix</td>\n      <td>Arizona</td>\n      <td>1,200/km2</td>\n      <td>\ufeff33.5722\u00b0N 112.0901\u00b0W\ufeff</td>\n      <td>22.750824</td>\n    </tr>\n  </tbody>\n</table>\n</div>",
                        "text/plain": "          City       State Population density in Km2  \\\n0  New York[d]    New York                10,933/km2   \n1  Los Angeles  California                 3,276/km2   \n2      Chicago    Illinois                 4,600/km2   \n3   Houston[3]       Texas                 1,395/km2   \n4      Phoenix     Arizona                 1,200/km2   \n\n                   Location     Radius  \n0    \ufeff40.6635\u00b0N 73.9387\u00b0W\ufeff   17.363755  \n1   \ufeff34.0194\u00b0N 118.4108\u00b0W\ufeff   21.649480  \n2    \ufeff41.8376\u00b0N 87.6818\u00b0W\ufeff   15.076472  \n3    \ufeff29.7866\u00b0N 95.3909\u00b0W\ufeff   25.248762  \n4   \ufeff33.5722\u00b0N 112.0901\u00b0W\ufeff   22.750824  "
                    },
                    "execution_count": 24,
                    "metadata": {},
                    "output_type": "execute_result"
                }
            ],
            "source": "#Splitting the location into latitudes and longitudes \ndf[\"Location\"]= df[\"Location\"].str.split(\"/\", n = 2, expand = True)[1]\ndf.head()"
        },
        {
            "cell_type": "code",
            "execution_count": 48,
            "metadata": {},
            "outputs": [
                {
                    "data": {
                        "text/plain": "0     [, \ufeff40.6635\u00b0N, 73.9387\u00b0W\ufeff, ]\n1    [, \ufeff34.0194\u00b0N, 118.4108\u00b0W\ufeff, ]\n2     [, \ufeff41.8376\u00b0N, 87.6818\u00b0W\ufeff, ]\n3     [, \ufeff29.7866\u00b0N, 95.3909\u00b0W\ufeff, ]\n4    [, \ufeff33.5722\u00b0N, 112.0901\u00b0W\ufeff, ]\nName: Location, dtype: object"
                    },
                    "execution_count": 48,
                    "metadata": {},
                    "output_type": "execute_result"
                }
            ],
            "source": "new = df[\"Location\"].str.split(\" \", n = 0, expand = False)\nk = df.copy(deep = True)\nnew.head()"
        },
        {
            "cell_type": "code",
            "execution_count": 50,
            "metadata": {},
            "outputs": [],
            "source": "k[\"Latitude\"] = Latitude\nk[\"Longitude\"] = Longitude\nk[\"Latitude\"] = k[\"Latitude\"].str.replace(u'\\ufeff',u'')\nk.drop(columns = [\"Location\"], inplace = True)\nk.head()\ndf = k.copy(deep = True)\n"
        },
        {
            "cell_type": "code",
            "execution_count": 51,
            "metadata": {},
            "outputs": [],
            "source": "Latitude = []\nLongitude = []"
        },
        {
            "cell_type": "code",
            "execution_count": null,
            "metadata": {},
            "outputs": [],
            "source": "df['Longitude'] = -df['Longitude'].astype(float)\ndf['Latitude'] = df['Latitude'].astype(float)\ndf['Radius'] = df['Radius']* 1000\n"
        },
        {
            "cell_type": "markdown",
            "metadata": {},
            "source": "### State wise per capita income"
        },
        {
            "cell_type": "code",
            "execution_count": 53,
            "metadata": {},
            "outputs": [],
            "source": "link1 = 'https://en.wikipedia.org/wiki/List_of_United_States_counties_by_per_capita_income'\npage1 = requests.get(link1) \nsoup1 = BeautifulSoup(page1.text)\ntable = soup1.find_all('table')[1]\ntable_rows = table.find_all('tr')\nres = []\nfor tr in table_rows:\n    td = tr.find_all('td')\n    row = [tr.text.strip() for tr in td if tr.text.strip()]\n    if row:\n        res.append(row)\ndf_state = pd.DataFrame(res, columns=[\"Rank\", \"Country-equivalent\", \"State\", \"Per capita income\", \"del2\", \"del3\", \"Population\", \"del5\"])"
        },
        {
            "cell_type": "code",
            "execution_count": null,
            "metadata": {},
            "outputs": [],
            "source": "df_state.drop(columns = ['Rank','del2', 'del3', 'del5'], axis = 1, inplace = True)"
        },
        {
            "cell_type": "code",
            "execution_count": null,
            "metadata": {},
            "outputs": [],
            "source": "# create map of USA cities that we have using latitude and longitude values\nmap_tohood = folium.Map(location=[37.0902,-95.7129], zoom_start=3)\n\n# add markers to map\nfor lat, lng, state, city in zip(df['Latitude'], df['Longitude'], df['State'], df['City']):\n    label = '{}, {}'.format(city, state)\n    label = folium.Popup(label, parse_html=True)\n    folium.CircleMarker(\n        [lat, lng],\n        radius=3,\n        popup=label,\n        color='blue',\n        fill=True,\n        fill_color='#3186cc',\n        fill_opacity=0.3,\n        parse_html=False).add_to(map_tohood)  \n    \nmap_tohood"
        },
        {
            "cell_type": "code",
            "execution_count": null,
            "metadata": {},
            "outputs": [],
            "source": "CLIENT_ID = '1VKFKHGM0JXKUKRPWZZMH0BPTRXIEOQVUNI3R2JCVIMEJW0Y' # your Foursquare ID\nCLIENT_SECRET = '4CAY3Z2SCS34QC15ON1UFZLWCLL4LFTLKCDJMY1KGEKKVWHW' # your Foursquare Secret\nVERSION = '20180604'\nLIMIT = 20\nprint('Your credentails:')\nprint('CLIENT_ID: ' + CLIENT_ID)\nprint('CLIENT_SECRET:' + CLIENT_SECRET)"
        },
        {
            "cell_type": "code",
            "execution_count": null,
            "metadata": {},
            "outputs": [],
            "source": "def getNearbyVenues(names, latitudes, longitudes, radius):\n    \n    venues_list=[]\n    for name, lat, lng,radius in zip(names, latitudes, longitudes,radius):\n            \n        # create the API request URL\n        url = 'https://api.foursquare.com/v2/venues/explore?&client_id={}&client_secret={}&v={}&ll={},{}&radius={}&limit={}'.format(\n            CLIENT_ID, \n            CLIENT_SECRET, \n            VERSION, \n            lat, \n            lng, \n            radius, \n            LIMIT)\n            \n        # make the GET request\n        results = requests.get(url).json()[\"response\"]['groups'][0]['items']\n       # print(results)\n        # return only relevant information for each nearby venue\n        venues_list.append([(\n            name, \n            lat, \n            lng, \n            v['venue']['name'], \n            v['venue']['location']['lat'], \n            v['venue']['location']['lng'],  \n            v['venue']['categories'][0]['name']) for v in results])\n\n    nearby_venues = pd.DataFrame([item for venue_list in venues_list for item in venue_list])\n    nearby_venues.columns = ['City', \n                  'Latitude', \n                  'Longitude', \n                  'Venue', \n                  'Venue Latitude', \n                  'Venue Longitude', \n                  'Venue Category']\n    \n    return(nearby_venues)"
        },
        {
            "cell_type": "code",
            "execution_count": null,
            "metadata": {},
            "outputs": [],
            "source": "df_venues = getNearbyVenues(names = df['City'], latitudes = df['Latitude'],longitudes = df['Longitude'], radius = df['Radius'])"
        },
        {
            "cell_type": "markdown",
            "metadata": {},
            "source": "#### Assigning Weights to Categories"
        },
        {
            "cell_type": "code",
            "execution_count": null,
            "metadata": {},
            "outputs": [],
            "source": "k = df_venues.copy(deep = True)\nweights_dict={'Movie Theater':3,'Beach':3,'Concert Hall':2.5,'Playground':3,'Coffee Shop':3.5,'Food Court':4,'Nightclub':4,'Toy / Game Store':4.5,'Theme Park Ride / Attraction':4,'Pub':4}\ndata = df_venues['Venue Category']\nallVenues = data.astype(list)"
        },
        {
            "cell_type": "code",
            "execution_count": null,
            "metadata": {},
            "outputs": [],
            "source": "\nweights = []\nfor i in allVenues:\n    if i in weights_dict.keys():\n        weights.append(weights_dict[i])\n    else :\n        weights.append(0)\ndf_venues['weights'] = weights;\ndf_venues.head()"
        },
        {
            "cell_type": "code",
            "execution_count": null,
            "metadata": {},
            "outputs": [],
            "source": "# Dropping the rows that we are not giving any weight\ndf_venues.drop(df_venues[df_venues.weights < 1.0].index, inplace=True)"
        },
        {
            "cell_type": "code",
            "execution_count": null,
            "metadata": {},
            "outputs": [],
            "source": "citywise_venues_weights = df_venues[['City','weights']].copy()\ncitywise_venues_weights_means = citywise_venues_weights.groupby(['City']).mean()\ncitywise_venues_weights_means = citywise_venues_weights_means.reset_index(drop=False)"
        },
        {
            "cell_type": "code",
            "execution_count": null,
            "metadata": {},
            "outputs": [],
            "source": "city_selection = pd.merge(df, citywise_venues_weights_means, on='City')\ncity_selection = city_selection[['City','Population density in Km2','weights']].copy()"
        },
        {
            "cell_type": "code",
            "execution_count": null,
            "metadata": {},
            "outputs": [],
            "source": "\n# Preprocessing the population density in Km2 column as we have to normalize these values\nk = city_selection.copy(deep = True)\nk['Population density in Km2'] = k['Population density in Km2'].str.split(\"/\", n = 0, expand = True)\nk['Population density in Km2'] = k['Population density in Km2'].str.replace(',','')\nk['Population density in Km2'] = k['Population density in Km2'].astype(float)\ncity_selection = k.copy(deep = True)"
        },
        {
            "cell_type": "markdown",
            "metadata": {},
            "source": "### Normalizing our Data"
        },
        {
            "cell_type": "code",
            "execution_count": null,
            "metadata": {},
            "outputs": [],
            "source": "# Normalizing the data frame\nfrom sklearn import preprocessing\ncolumn_names_to_normalize = ['Population density in Km2', 'weights']\nx = city_selection[column_names_to_normalize].values #returns a numpy array\nmin_max_scaler = preprocessing.MinMaxScaler()\nx_scaled = min_max_scaler.fit_transform(x)\ncity_selection[column_names_to_normalize] = pd.DataFrame(x_scaled)"
        },
        {
            "cell_type": "code",
            "execution_count": null,
            "metadata": {},
            "outputs": [],
            "source": "#calculating the sum of normalized columns to determine the city that has maximum sum and conclude that one locality in that city would be the best fit \ncity_selection['sum'] = city_selection['Population density in Km2'] + city_selection['weights']\nrow_num = city_selection['sum'].argmax()\ncity_name = city_selection['City'].iloc[row_num]\ncity_name"
        },
        {
            "cell_type": "code",
            "execution_count": null,
            "metadata": {},
            "outputs": [],
            "source": "# Finding the state in which that city belongs\nrow = df.loc[df['City']== city_name].index[0]\nstate_name = df['State'].iloc[row]\nstate_name"
        },
        {
            "cell_type": "markdown",
            "metadata": {},
            "source": "### Per capita income of minimun 50000 USD"
        },
        {
            "cell_type": "code",
            "execution_count": null,
            "metadata": {},
            "outputs": [],
            "source": "\n# checking the percapita income of New Jercy \np_row = df_state.loc[df_state['State'] == state_name].index[0]\nper_capital_income = df_state['Per capita income'].iloc[p_row]\nprint(\"Per capita income of New Jercy is :\", per_capital_income)"
        },
        {
            "cell_type": "code",
            "execution_count": null,
            "metadata": {},
            "outputs": [],
            "source": "lat_newJercy = df['Latitude'].iloc[row]\nlong_newJercy = df['Longitude'].iloc[row]\nprint(lat_newJercy, long_newJercy)"
        },
        {
            "cell_type": "markdown",
            "metadata": {},
            "source": "### Getting all nearby Venues via forsquare"
        },
        {
            "cell_type": "code",
            "execution_count": null,
            "metadata": {},
            "outputs": [],
            "source": " Getting the venues of New Jersey using four square API \n\ndef getNearbyVenues1(name, latitudes, longitudes, radius):\n    \n    LIMIT = 150       \n        # create the API request URL\n    url = 'https://api.foursquare.com/v2/venues/explore?&client_id={}&client_secret={}&v={}&ll={},{}&radius={}&limit={}'.format(\n            CLIENT_ID, \n            CLIENT_SECRET, \n            VERSION, \n            latitudes, \n            longitudes, \n            radius, \n            LIMIT)\n            \n        # make the GET request\n    results = requests.get(url).json()[\"response\"]['groups'][0]['items']\n   # print(results)\n    venues_list=[]\n    venues_list.append([(name,lat,lng,v['venue']['name'],v['venue']['location']['lat'],v['venue']['location']['lng'],v['venue']['categories'][0]['name'])for v in results])\n    nearby_venues = pd.DataFrame([item for venue_list in venues_list for item in venue_list])\n    nearby_venues.columns = ['City', 'Latitude', 'Longitude', 'Venue', 'Venue Latitude', 'Venue Longitude','Venue Category']\n    return(nearby_venues)\n\n\nnew_jersey_venues = getNearbyVenues1(name = 'Jersey City', latitudes = lat_newJercy ,longitudes = long_newJercy, radius = 2500)"
        },
        {
            "cell_type": "markdown",
            "metadata": {},
            "source": "### Assgining Weights to each Category"
        },
        {
            "cell_type": "code",
            "execution_count": null,
            "metadata": {},
            "outputs": [],
            "source": "k = new_jersey_venues.copy(deep = True)\nnew_weightage_dict= {'Coffee Shop' : 3, \n'Caribbean Restaurant':3,\n'Distillery':2,\n'Fish & Chips Shop':3,\n'Science Museum':3,\n'Latin American Restaurant':4,\n'Restaurant':5,\n'State / Provincial Park':1,\n'Diner':1,\n'Supermarket':1,\n'Bar':1,\n'Jazz Club':1,\n'Golf Course':3,\n'Park':2,\n'Cajun / Creole Restaurant':2,\n'Bakery':2,\n'Go Kart Track':3,\n'Taco Place':3,\n'Hot Dog Joint':2,\n'Food Truck':3,\n'Beer Garden':3,\n'Boutique':4,\n'Caf\u00e9':5,\n'Bagel Shop':1,\n'Record Shop':1,\n'Bakery':1,\n'Pizza Place':1,\n'Ramen Restaurant':1,\n'Wine Bar':3,\n'Middle Eastern Restaurant':2,\n'French Restaurant':2,\n'Theater':2,\n'Lounge':3,\n'Wine Shop':3,\n'Cocktail Bar':2,\n'New American Restaurant':3,\n'Residential Building (Apartment / Condo)':3,\n'Pool':4,\n'Burger Joint':5,\n'Cheese Shop':1,\n'Coffee Shop':1,\n'Bagel Shop':1,\n'Vietnamese Restaurant':1,\n'Portuguese Restaurant':1,\n'Ice Cream Shop':3,\n'Italian Restaurant':2,\n'Gym':2,\n'Farmers Market':2,\n'Bar':3,\n'Pizza Place':3,\n'Bakery':2,\n'Bookstore':3,\n'Bar':3,\n'Farmers Market':4,\n'Asian Restaurant':5,\n'Tea Room':1,\n'Donut Shop':1,\n'Historic Site':1,\n'Gym / Fitness Center':1,\n'Caf\u00e9':1,\n'Mexican Restaurant':3,\n'Plaza':2,\n'Gay Bar':2,\n'Bar':3,\n'College Administrative Building':3,\n'Mexican Restaurant':2,\n'Bakery':3,\n'American Restaurant':3,\n'American Restaurant':4,\n'American Restaurant':5,\n'Caf\u00e9':1,\n'New American Restaurant':1,\n'Chocolate Shop':1,\n'Gym':1,\n'Grocery Store':1,\n'Middle Eastern Restaurant':3,\n'American Restaurant':2,\n'Frozen Yogurt Shop':2,\n'Japanese Restaurant':2,\n'Bar':3,\n'Liquor Store':3,\n'Ice Cream Shop':2,\n'Fish Market':3,\n'Indie Movie Theater':3,\n'Grocery Store':4,\n'Modern European Restaurant':5,\n'American Restaurant':1,\n'Poke Place':1,\n'Ramen Restaurant':1,\n'Diner':1,\n'Brewery':1,\n'Burger Joint':3,\n'Burger Joint':2,\n'Caf\u00e9':2,\n'Fried Chicken Joint':2,\n'Beer Garden':3,\n'Gym / Fitness Center':3,\n'Vietnamese Restaurant':2,\n'Italian Restaurant':3,\n'Pet Store':3}"
        },
        {
            "cell_type": "code",
            "execution_count": null,
            "metadata": {},
            "outputs": [],
            "source": "import matplotlib.cm as cm\nimport matplotlib.colors as colors\nimport folium\n\n# create map of the venues that we have using latitude and longitudes\nvenues_map = folium.Map(location=[lat_newJercy, long_newJercy], zoom_start=15) # generate map centred around Jersey city\n\n\n# add Jersey City as a red circle mark\nfolium.features.CircleMarker(\n    [lat_newJercy, long_newJercy],\n    radius=10,\n    popup='Jersey city',\n    fill=True,\n    color='red',\n    fill_color='red',\n    fill_opacity=0.6\n    ).add_to(venues_map)"
        },
        {
            "cell_type": "code",
            "execution_count": null,
            "metadata": {},
            "outputs": [],
            "source": "\n# add all the venuew of the Jersey city to the map as blue circle markers\nfor lat, lng, label in zip(venues_in_newjersey['Venue Latitude'], venues_in_newjersey['Venue Longitude'], venues_in_newjersey['Venue']):\n    label=folium.Popup(label,parse_html=True)\n    folium.features.CircleMarker(\n        [lat, lng],\n        radius=5,\n        popup=label,\n        color='blue',\n        fill=True,\n        fill_color='#3186cc',\n        fill_opacity=0.6,\n        parse_html = False).add_to(venues_map)\nvenues_map"
        },
        {
            "cell_type": "code",
            "execution_count": null,
            "metadata": {},
            "outputs": [],
            "source": "# Calculating new weights for our data frame as we have given weights for all categories\n\nallVenuesinCity1 = k['Venue Category']\n\nf_weights1 = []\nfor i in allVenuesinCity1:\n    if i in new_weightage_dict.keys():\n        f_weights1.append(new_weightage_dict[i])\n    else :\n        f_weights1.append(0)\nk['weights'] = f_weights1;"
        },
        {
            "cell_type": "code",
            "execution_count": null,
            "metadata": {},
            "outputs": [],
            "source": "# Dropping unnecessary columns \n\nnewframe = k[['City','Venue Category','weights']].copy()\nnewframe = k.groupby(['Venue Category']).mean()\nnewframe.drop(columns = [\"Latitude\", \"Longitude\"], inplace = True)\nnewframe"
        },
        {
            "cell_type": "markdown",
            "metadata": {},
            "source": "### Using K Means algorithm to cluster the venues and calculating the weights for each cluster"
        },
        {
            "cell_type": "code",
            "execution_count": null,
            "metadata": {},
            "outputs": [],
            "source": "# Cluster them using K means algorithm \nfrom scipy import stats\nfrom sklearn.cluster import KMeans\nimport matplotlib.pyplot as plt\nimport seaborn as sns\n#Standardize\nclmns = ['weights','Venue Latitude', 'Venue Longitude']\ndf_tr_std = stats.zscore(newframe[clmns])\n#Cluster the data\nkmeans = KMeans(n_clusters=3, random_state=0).fit(df_tr_std)\nlabels = kmeans.labels_\nnewframe['clusters'] = labels\n#Add the column into our list\nclmns.extend(['clusters'])\n#Lets analyze the clusters\nkframe = newframe[clmns].groupby(['Venue Category']).mean()\nkframe = kframe.reset_index(drop = False)"
        },
        {
            "cell_type": "code",
            "execution_count": null,
            "metadata": {},
            "outputs": [],
            "source": "finalWeight = kframe.groupby(['clusters']).mean()\nfinalWeight"
        },
        {
            "cell_type": "code",
            "execution_count": null,
            "metadata": {},
            "outputs": [],
            "source": "# Final coordinates of the place where we will be setting up an arcade is the one that has maximum weight for, in the above data frame\nlat1 = 40.720102\nlong1 = -74.048121"
        },
        {
            "cell_type": "code",
            "execution_count": null,
            "metadata": {},
            "outputs": [],
            "source": "final_map = folium.Map(location=[lat1, long1], zoom_start=15) # generate map centred around Jersey city\n\n\n# add prefered location in the City as a green circle mark\nfolium.features.CircleMarker(\n    [lat1, long1],\n    radius=50,\n    popup='Gaming arcade can be installed within this circle',\n    fill=True,\n    color='green',\n    fill_color='green',\n    fill_opacity=0.6\n    ).add_to(final_map)\nfinal_map"
        },
        {
            "cell_type": "markdown",
            "metadata": {},
            "source": "### Result: Jersery City can be determined to be the best location to open a departmental store"
        },
        {
            "cell_type": "code",
            "execution_count": null,
            "metadata": {},
            "outputs": [],
            "source": ""
        },
        {
            "cell_type": "code",
            "execution_count": null,
            "metadata": {},
            "outputs": [],
            "source": ""
        },
        {
            "cell_type": "code",
            "execution_count": null,
            "metadata": {},
            "outputs": [],
            "source": ""
        },
        {
            "cell_type": "code",
            "execution_count": null,
            "metadata": {},
            "outputs": [],
            "source": ""
        }
    ],
    "metadata": {
        "kernelspec": {
            "display_name": "Python 3.6",
            "language": "python",
            "name": "python3"
        },
        "language_info": {
            "codemirror_mode": {
                "name": "ipython",
                "version": 3
            },
            "file_extension": ".py",
            "mimetype": "text/x-python",
            "name": "python",
            "nbconvert_exporter": "python",
            "pygments_lexer": "ipython3",
            "version": "3.6.9"
        }
    },
    "nbformat": 4,
    "nbformat_minor": 1
}